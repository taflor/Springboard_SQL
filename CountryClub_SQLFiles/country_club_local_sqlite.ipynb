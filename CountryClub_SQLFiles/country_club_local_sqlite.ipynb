{
 "cells": [
  {
   "cell_type": "markdown",
   "metadata": {},
   "source": [
    "# Country Club SQLite Case Study\n",
    "Springboard Assignment\n",
    "<br>Tiffany Flor"
   ]
  },
  {
   "cell_type": "code",
   "execution_count": 6,
   "metadata": {},
   "outputs": [],
   "source": [
    "import sqlite3"
   ]
  },
  {
   "cell_type": "code",
   "execution_count": 18,
   "metadata": {},
   "outputs": [],
   "source": [
    "from sqlite3 import Error\n",
    "\n",
    "def create_connection(db_file):\n",
    "    \"\"\" create a database connection to the SQLite database\n",
    "        specified by the db_file\n",
    "    :param db_file: database file\n",
    "    :return: Connection object or None\n",
    "    \"\"\"\n",
    "    conn = None\n",
    "    try:\n",
    "        conn = sqlite3.connect(db_file)\n",
    "        print(sqlite3.version)\n",
    "    except Error as e:\n",
    "        print(e)\n",
    " \n",
    "    return conn"
   ]
  },
  {
   "cell_type": "code",
   "execution_count": 20,
   "metadata": {},
   "outputs": [],
   "source": [
    "# Q10 QUERY:Produce a list of facilities with a total revenue less than 1000.\n",
    "# The output of facility name and total revenue, sorted by revenue. Remember\n",
    "# that there's a different cost for guests and members!\n",
    "\n",
    "def select_all_tasks(conn):\n",
    "    \"\"\"\n",
    "    Query all rows in the tasks table\n",
    "    :param conn: the Connection object\n",
    "    :return:\n",
    "    \"\"\"\n",
    "    cur = conn.cursor()\n",
    "    \n",
    "    query1 = \"SELECT book_fac.name AS facility_name, sum(book_fac.revenue) AS total_rev FROM (SELECT b.memid, b.facid, f.name, CASE WHEN b.memid <> 0 THEN f.membercost * b.slots * 2 ELSE f.guestcost * b.slots * 2 END AS revenue FROM Bookings as b INNER JOIN Facilities AS f ON b.facid = f.facid) AS book_fac GROUP BY facility_name HAVING total_rev < 1000 ORDER BY total_rev;\"\n",
    "        \n",
    "    cur.execute(query1)\n",
    " \n",
    "    rows = cur.fetchall()\n",
    " \n",
    "    for row in rows:\n",
    "        print(row)"
   ]
  },
  {
   "cell_type": "code",
   "execution_count": 21,
   "metadata": {},
   "outputs": [
    {
     "name": "stdout",
     "output_type": "stream",
     "text": [
      "2.6.0\n",
      "2. Query all tasks\n",
      "('Table Tennis', 360)\n",
      "('Snooker Table', 480)\n",
      "('Pool Table', 540)\n"
     ]
    }
   ],
   "source": [
    "# Q10 ANSWER\n",
    "database = \"sqlite_db_pythonsqlite.db\"\n",
    " \n",
    "# create a database connection\n",
    "conn = create_connection(database)\n",
    "with conn: \n",
    "    print(\"2. Query all tasks\")\n",
    "    select_all_tasks(conn)"
   ]
  },
  {
   "cell_type": "code",
   "execution_count": 34,
   "metadata": {},
   "outputs": [],
   "source": [
    "# Q11 QUERY: Produce a report of members and who recommended them in alphabetic surname,firstname order\n",
    "\n",
    "def select_all_tasks(conn):\n",
    "    \"\"\"\n",
    "    Query all rows in the tasks table\n",
    "    :param conn: the Connection object\n",
    "    :return:\n",
    "    \"\"\"\n",
    "    cur = conn.cursor()\n",
    "    \n",
    "    query1 = \"SELECT m.surname || ', ' || m.firstname || ' RECOMMENDED BY ' || r.surname || ', ' || r.firstname FROM Members AS m INNER JOIN Members AS r ON m.recommendedby = r.memid WHERE m.memid <> 0 AND r.memid <> 0 ORDER BY m.surname, m.firstname;\"\n",
    "\n",
    "    cur.execute(query1)\n",
    " \n",
    "    rows = cur.fetchall()\n",
    " \n",
    "    for row in rows:\n",
    "        print(row)"
   ]
  },
  {
   "cell_type": "code",
   "execution_count": 35,
   "metadata": {},
   "outputs": [
    {
     "name": "stdout",
     "output_type": "stream",
     "text": [
      "2.6.0\n",
      "2. Query all tasks\n",
      "('Bader, Florence RECOMMENDED BY Stibbons, Ponder',)\n",
      "('Baker, Anne RECOMMENDED BY Stibbons, Ponder',)\n",
      "('Baker, Timothy RECOMMENDED BY Farrell, Jemima',)\n",
      "('Boothe, Tim RECOMMENDED BY Rownam, Tim',)\n",
      "('Butters, Gerald RECOMMENDED BY Smith, Darren',)\n",
      "('Coplin, Joan RECOMMENDED BY Baker, Timothy',)\n",
      "('Crumpet, Erica RECOMMENDED BY Smith, Tracy',)\n",
      "('Dare, Nancy RECOMMENDED BY Joplette, Janice',)\n",
      "('Genting, Matthew RECOMMENDED BY Butters, Gerald',)\n",
      "('Hunt, John RECOMMENDED BY Purview, Millicent',)\n",
      "('Jones, David RECOMMENDED BY Joplette, Janice',)\n",
      "('Jones, Douglas RECOMMENDED BY Jones, David',)\n",
      "('Joplette, Janice RECOMMENDED BY Smith, Darren',)\n",
      "('Mackenzie, Anna RECOMMENDED BY Smith, Darren',)\n",
      "('Owen, Charles RECOMMENDED BY Smith, Darren',)\n",
      "('Pinker, David RECOMMENDED BY Farrell, Jemima',)\n",
      "('Purview, Millicent RECOMMENDED BY Smith, Tracy',)\n",
      "('Rumney, Henrietta RECOMMENDED BY Genting, Matthew',)\n",
      "('Sarwin, Ramnaresh RECOMMENDED BY Bader, Florence',)\n",
      "('Smith, Jack RECOMMENDED BY Smith, Darren',)\n",
      "('Stibbons, Ponder RECOMMENDED BY Tracy, Burton',)\n",
      "('Worthington-Smyth, Henry RECOMMENDED BY Smith, Tracy',)\n"
     ]
    }
   ],
   "source": [
    "# Q11 ANSWER\n",
    "database = \"sqlite_db_pythonsqlite.db\"\n",
    " \n",
    "# create a database connection\n",
    "conn = create_connection(database)\n",
    "with conn: \n",
    "    print(\"2. Query all tasks\")\n",
    "    select_all_tasks(conn)"
   ]
  },
  {
   "cell_type": "code",
   "execution_count": 36,
   "metadata": {},
   "outputs": [],
   "source": [
    "# Q12 QUERY: Find the facilities with their usage by member, but not guests\n",
    "\n",
    "def select_all_tasks(conn):\n",
    "    \"\"\"\n",
    "    Query all rows in the tasks table\n",
    "    :param conn: the Connection object\n",
    "    :return:\n",
    "    \"\"\"\n",
    "    cur = conn.cursor()\n",
    "    \n",
    "    query1 = \"SELECT f.name AS 'Facility', (COUNT(*)*b.slots) AS 'Usage' FROM Bookings AS b INNER JOIN Facilities AS f ON b.facid = f.facid WHERE memid <> 0 GROUP BY f.name;\"\n",
    "\n",
    "    cur.execute(query1)\n",
    " \n",
    "    rows = cur.fetchall()\n",
    " \n",
    "    for row in rows:\n",
    "        print(row)"
   ]
  },
  {
   "cell_type": "code",
   "execution_count": 37,
   "metadata": {},
   "outputs": [
    {
     "name": "stdout",
     "output_type": "stream",
     "text": [
      "2.6.0\n",
      "2. Query all tasks\n",
      "('Badminton Court', 1032)\n",
      "('Massage Room 1', 842)\n",
      "('Massage Room 2', 54)\n",
      "('Pool Table', 783)\n",
      "('Snooker Table', 842)\n",
      "('Squash Court', 390)\n",
      "('Table Tennis', 770)\n",
      "('Tennis Court 1', 924)\n",
      "('Tennis Court 2', 828)\n"
     ]
    }
   ],
   "source": [
    "# Q12 ANSWER\n",
    "database = \"sqlite_db_pythonsqlite.db\"\n",
    " \n",
    "# create a database connection\n",
    "conn = create_connection(database)\n",
    "with conn: \n",
    "    print(\"2. Query all tasks\")\n",
    "    select_all_tasks(conn)"
   ]
  },
  {
   "cell_type": "code",
   "execution_count": 42,
   "metadata": {},
   "outputs": [],
   "source": [
    "# Q13 QUERY: Find the facilities usage by month, but not guests\n",
    "def select_all_tasks(conn):\n",
    "    \"\"\"\n",
    "    Query all rows in the tasks table\n",
    "    :param conn: the Connection object\n",
    "    :return:\n",
    "    \"\"\"\n",
    "    cur = conn.cursor()\n",
    "    \n",
    "    query1 = \"SELECT f.name AS 'Facility', strftime('%m',starttime) as 'Month', (COUNT(*)*b.slots) AS 'Usage' FROM Bookings AS b INNER JOIN Facilities AS f ON b.facid = f.facid WHERE memid <> 0 GROUP BY strftime('%m',starttime), f.name ORDER BY f.name, strftime('%m',starttime);\"\n",
    "\n",
    "    cur.execute(query1)\n",
    " \n",
    "    rows = cur.fetchall()\n",
    " \n",
    "    for row in rows:\n",
    "        print(row)"
   ]
  },
  {
   "cell_type": "code",
   "execution_count": 43,
   "metadata": {},
   "outputs": [
    {
     "name": "stdout",
     "output_type": "stream",
     "text": [
      "2.6.0\n",
      "2. Query all tasks\n",
      "('Badminton Court', '07', 153)\n",
      "('Badminton Court', '08', 792)\n",
      "('Badminton Court', '09', 483)\n",
      "('Massage Room 1', '07', 154)\n",
      "('Massage Room 1', '08', 306)\n",
      "('Massage Room 1', '09', 382)\n",
      "('Massage Room 2', '07', 8)\n",
      "('Massage Room 2', '08', 18)\n",
      "('Massage Room 2', '09', 28)\n",
      "('Pool Table', '07', 103)\n",
      "('Pool Table', '08', 544)\n",
      "('Pool Table', '09', 408)\n",
      "('Snooker Table', '07', 136)\n",
      "('Snooker Table', '08', 308)\n",
      "('Snooker Table', '09', 398)\n",
      "('Squash Court', '07', 46)\n",
      "('Squash Court', '08', 170)\n",
      "('Squash Court', '09', 174)\n",
      "('Table Tennis', '07', 96)\n",
      "('Table Tennis', '08', 286)\n",
      "('Table Tennis', '09', 388)\n",
      "('Tennis Court 1', '07', 195)\n",
      "('Tennis Court 1', '08', 333)\n",
      "('Tennis Court 1', '09', 396)\n",
      "('Tennis Court 2', '07', 123)\n",
      "('Tennis Court 2', '08', 981)\n",
      "('Tennis Court 2', '09', 378)\n"
     ]
    }
   ],
   "source": [
    "# Q13 ANSWER\n",
    "database = \"sqlite_db_pythonsqlite.db\"\n",
    " \n",
    "# create a database connection\n",
    "conn = create_connection(database)\n",
    "with conn: \n",
    "    print(\"2. Query all tasks\")\n",
    "    select_all_tasks(conn)"
   ]
  },
  {
   "cell_type": "code",
   "execution_count": null,
   "metadata": {},
   "outputs": [],
   "source": []
  }
 ],
 "metadata": {
  "kernelspec": {
   "display_name": "Python 3",
   "language": "python",
   "name": "python3"
  },
  "language_info": {
   "codemirror_mode": {
    "name": "ipython",
    "version": 3
   },
   "file_extension": ".py",
   "mimetype": "text/x-python",
   "name": "python",
   "nbconvert_exporter": "python",
   "pygments_lexer": "ipython3",
   "version": "3.8.2"
  }
 },
 "nbformat": 4,
 "nbformat_minor": 4
}
